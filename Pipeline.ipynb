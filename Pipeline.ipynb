{
 "cells": [
  {
   "cell_type": "code",
   "execution_count": 1,
   "metadata": {},
   "outputs": [],
   "source": [
    "import pandas as pd\n",
    "import numpy as np\n",
    "from scipy import sparse\n",
    "import json\n",
    "\n",
    "from nltk.stem import WordNetLemmatizer\n",
    "from nltk.stem.porter import *\n",
    "from nltk import word_tokenize\n",
    "\n",
    "from sklearn.pipeline import Pipeline, make_pipeline, FeatureUnion\n",
    "from sklearn.feature_extraction.text import TfidfVectorizer\n",
    "from sklearn.base import BaseEstimator, ClassifierMixin\n",
    "from sklearn.linear_model import LogisticRegression\n",
    "from sklearn.model_selection import cross_val_score, GridSearchCV, RandomizedSearchCV\n",
    "from sklearn.metrics import accuracy_score"
   ]
  },
  {
   "cell_type": "code",
   "execution_count": 2,
   "metadata": {},
   "outputs": [],
   "source": [
    "submissions = []\n",
    "\n",
    "with open('submissions_CasualConversation_all_months_filtered.json', 'r') as save_file:\n",
    "    saved_lines = save_file.readlines()\n",
    "    for line in saved_lines:\n",
    "        json_line = json.loads(line)\n",
    "        submissions.append(json_line)"
   ]
  },
  {
   "cell_type": "code",
   "execution_count": 102,
   "metadata": {},
   "outputs": [],
   "source": [
    "def split_train_test(submissions,train_set_fraction,randomize=True):\n",
    "    ''' Function for splitting data in training and test set\n",
    "    \n",
    "    =========================== ===============================================\n",
    "    Attribute                   Description\n",
    "    =========================== ===============================================\n",
    "    \"data\"                      The data that needs to be split up.\n",
    "    \"train_set_fraction\"        The fraction of the data that needs to be in \n",
    "                                the training set. \n",
    "    \"randomize\"                 Whether the order of the data should be \n",
    "                                shuffled.\n",
    "    =========================== ===============================================\n",
    "    '''\n",
    "    data = []\n",
    "    for submission in submissions:\n",
    "        text = submission['title'] + '\\n' + submission['selftext']\n",
    "        label = submission['link_flair_text']\n",
    "        data.append([text,label])\n",
    "    if(randomize): np.random.shuffle(data)\n",
    "    trainsize = round(len(data) * train_set_fraction)\n",
    "\n",
    "    train_set = [entry[0] for entry in data[:trainsize]]\n",
    "    test_set = [entry[0] for entry in data[trainsize:]]\n",
    "    train_labels = [entry[1] for entry in data[:trainsize]]\n",
    "    test_labels = [entry[1] for entry in data[trainsize:]]\n",
    "    return train_set, test_set, train_labels, test_labels"
   ]
  },
  {
   "cell_type": "code",
   "execution_count": 103,
   "metadata": {},
   "outputs": [],
   "source": [
    "train_x, test_x, train_y, test_y = split_train_test(submissions,0.8)"
   ]
  },
  {
   "cell_type": "code",
   "execution_count": 104,
   "metadata": {},
   "outputs": [],
   "source": [
    "x=np.array(train_x)\n",
    "y=np.array(train_y)"
   ]
  },
  {
   "cell_type": "code",
   "execution_count": 109,
   "metadata": {},
   "outputs": [],
   "source": [
    "# default params\n",
    "scoring='accuracy'\n",
    "cv=3\n",
    "n_jobs=1\n",
    "max_features = 2500"
   ]
  },
  {
   "cell_type": "code",
   "execution_count": 110,
   "metadata": {},
   "outputs": [],
   "source": [
    "class Stemmer(BaseEstimator):\n",
    "    def __init__(self):\n",
    "        self.l = PorterStemmer()\n",
    "        \n",
    "    def fit(self, x, y=None):\n",
    "        return self\n",
    "    \n",
    "    def transform(self, x):\n",
    "        x = map(lambda text:  ' '.join([self.l.stem(word.lower()) for word in text.split()]), x)\n",
    "        x = np.array(list(x))\n",
    "        return x"
   ]
  },
  {
   "cell_type": "code",
   "execution_count": 8,
   "metadata": {},
   "outputs": [
    {
     "name": "stderr",
     "output_type": "stream",
     "text": [
      "[Parallel(n_jobs=1)]: Done   3 out of   3 | elapsed:   21.4s finished\n"
     ]
    },
    {
     "data": {
      "text/plain": [
       "array([0.75084175, 0.72727273, 0.71348315])"
      ]
     },
     "execution_count": 8,
     "metadata": {},
     "output_type": "execute_result"
    }
   ],
   "source": [
    "tfidf = TfidfVectorizer(max_features=max_features, tokenizer=word_tokenize, ngram_range=(2, 2), analyzer='word', \n",
    "                        stop_words='english')\n",
    "sm = Stemmer()\n",
    "lr = LogisticRegression()\n",
    "p = Pipeline([\n",
    "    ('sm', sm),\n",
    "    ('tfidf', tfidf),\n",
    "    ('lr', lr)\n",
    "])\n",
    "\n",
    "cross_val_score(estimator=p, X=x, y=y, scoring=scoring, cv=cv, n_jobs=n_jobs, verbose=1)"
   ]
  },
  {
   "cell_type": "code",
   "execution_count": 111,
   "metadata": {},
   "outputs": [
    {
     "name": "stderr",
     "output_type": "stream",
     "text": [
      "[Parallel(n_jobs=1)]: Done  10 out of  10 | elapsed:  1.7min finished\n"
     ]
    },
    {
     "data": {
      "text/plain": [
       "array([0.9 , 0.9 , 0.92, 0.89, 0.9 , 0.91, 0.91, 0.92, 0.92, 0.92])"
      ]
     },
     "execution_count": 111,
     "metadata": {},
     "output_type": "execute_result"
    }
   ],
   "source": [
    "sm = Stemmer()\n",
    "tfidf_w = TfidfVectorizer(max_features=max_features, tokenizer=word_tokenize, ngram_range=(1, 5),analyzer='word', \n",
    "                          stop_words='english')\n",
    "tfidf_c = TfidfVectorizer(max_features=max_features, analyzer='char')\n",
    "lr = LogisticRegression()\n",
    "p = Pipeline([\n",
    "    ('sm', sm),\n",
    "    ('wc_tfidfs', \n",
    "         FeatureUnion([\n",
    "            ('tfidf_w', tfidf_w), \n",
    "            ('tfidf_c', tfidf_c), \n",
    "         ])\n",
    "    ),\n",
    "    ('lr', lr)\n",
    "])\n",
    "\n",
    "cross_val_score(estimator=p, X=x, y=y, scoring=scoring, cv=cv, n_jobs=n_jobs, verbose=1)"
   ]
  },
  {
   "cell_type": "code",
   "execution_count": 112,
   "metadata": {},
   "outputs": [
    {
     "data": {
      "text/plain": [
       "Pipeline(memory=None,\n",
       "     steps=[('sm', Stemmer()), ('wc_tfidfs', FeatureUnion(n_jobs=1,\n",
       "       transformer_list=[('tfidf_w', TfidfVectorizer(analyzer='word', binary=False, decode_error='strict',\n",
       "        dtype=<class 'numpy.int64'>, encoding='utf-8', input='content',\n",
       "        lowercase=True, max_df=1.0, max_features=2500, min...ty='l2', random_state=None, solver='liblinear', tol=0.0001,\n",
       "          verbose=0, warm_start=False))])"
      ]
     },
     "execution_count": 112,
     "metadata": {},
     "output_type": "execute_result"
    }
   ],
   "source": [
    "p.fit(x,y)"
   ]
  },
  {
   "cell_type": "code",
   "execution_count": 113,
   "metadata": {},
   "outputs": [],
   "source": [
    "predictions = p.predict(np.array(test_x))"
   ]
  },
  {
   "cell_type": "code",
   "execution_count": 100,
   "metadata": {},
   "outputs": [],
   "source": [
    "\n",
    "def plot_confusion_matrix(y_true, y_pred, classes,\n",
    "                          normalize=False,\n",
    "                          title=None,\n",
    "                          cmap=plt.cm.Blues):\n",
    "    \"\"\"\n",
    "    This function prints and plots the confusion matrix.\n",
    "    Normalization can be applied by setting `normalize=True`.\n",
    "    \"\"\"\n",
    "    if not title:\n",
    "        if normalize:\n",
    "            title = 'Normalized confusion matrix'\n",
    "        else:\n",
    "            title = 'Confusion matrix, without normalization'\n",
    "\n",
    "    # Compute confusion matrix\n",
    "    cm = confusion_matrix(y_true, y_pred)\n",
    "    # Only use the labels that appear in the data\n",
    "    if normalize:\n",
    "        cm = cm.astype('float') / cm.sum(axis=1)[:, np.newaxis]\n",
    "        print(\"Normalized confusion matrix\")\n",
    "    else:\n",
    "        print('Confusion matrix, without normalization')\n",
    "\n",
    "    print(cm)\n",
    "\n",
    "    fig, ax = plt.subplots()\n",
    "    im = ax.imshow(cm, interpolation='nearest', cmap=cmap)\n",
    "    ax.figure.colorbar(im, ax=ax)\n",
    "    # We want to show all ticks...\n",
    "    ax.set(xticks=np.arange(cm.shape[1]),\n",
    "           yticks=np.arange(cm.shape[0]),\n",
    "           # ... and label them with the respective list entries\n",
    "           xticklabels=classes, yticklabels=classes,\n",
    "           title=title,\n",
    "           ylabel='True label',\n",
    "           xlabel='Predicted label')\n",
    "\n",
    "    # Rotate the tick labels and set their alignment.\n",
    "    plt.setp(ax.get_xticklabels(), rotation=45, ha=\"right\",\n",
    "             rotation_mode=\"anchor\")\n",
    "\n",
    "    # Loop over data dimensions and create text annotations.\n",
    "    fmt = '.2f' if normalize else 'd'\n",
    "    thresh = cm.max() / 2.\n",
    "    for i in range(cm.shape[0]):\n",
    "        for j in range(cm.shape[1]):\n",
    "            ax.text(j, i, format(cm[i, j], fmt),\n",
    "                    ha=\"center\", va=\"center\",\n",
    "                    color=\"white\" if cm[i, j] > thresh else \"black\")\n",
    "    fig.tight_layout()\n",
    "    return ax"
   ]
  },
  {
   "cell_type": "code",
   "execution_count": 114,
   "metadata": {},
   "outputs": [
    {
     "name": "stdout",
     "output_type": "stream",
     "text": [
      "0.8802395209580839\n",
      "Normalized confusion matrix\n",
      "[[0.72 0.04 0.15 0.09 0.  ]\n",
      " [0.   0.95 0.04 0.01 0.  ]\n",
      " [0.01 0.02 0.95 0.02 0.  ]\n",
      " [0.   0.02 0.03 0.95 0.  ]\n",
      " [0.   0.34 0.29 0.29 0.07]]\n"
     ]
    },
    {
     "data": {
      "text/plain": [
       "<matplotlib.axes._subplots.AxesSubplot at 0x29e9268e630>"
      ]
     },
     "execution_count": 114,
     "metadata": {},
     "output_type": "execute_result"
    },
    {
     "data": {
      "image/png": "[encoded data removed]",
      "text/plain": [
       "<Figure size 432x288 with 2 Axes>"
      ]
     },
     "metadata": {},
     "output_type": "display_data"
    }
   ],
   "source": [
    "from sklearn.metrics import accuracy_score\n",
    "from sklearn.metrics import confusion_matrix\n",
    "# from plot_confusion_matrix import plot_confusion_matrix\n",
    "\n",
    "\n",
    "import matplotlib.pyplot as plt\n",
    "from sklearn.utils.multiclass import unique_labels\n",
    "\n",
    "labels = ['Music','Movie and Show', 'Gaming', 'Book', 'Neat']\n",
    "y_pred = predictions\n",
    "y_true = np.array(test_y)\n",
    "print(accuracy_score(y_true, y_pred))\n",
    "confusion_matrix(y_true, y_pred)\n",
    "plot_confusion_matrix(y_true, y_pred, classes=np.array(labels), normalize=True)\n",
    "# classes=np.array(labels)\n",
    "# i = classes[unique_labels(y_true, y_pred)]"
   ]
  },
  {
   "cell_type": "code",
   "execution_count": 43,
   "metadata": {},
   "outputs": [],
   "source": [
    "a = \"\"\"\n",
    "I don't like playing  MUSIC song music melody alone. It's very eerie. I can't deal with it, it really freaks me out. The dark, long The near-silent forests. The shadows dancing at the edge of my screen.\n",
    "\n",
    "It doesn't help my current world has a weird pitch where some of the nearby forests are lit up despite the lack of any light sources.\n",
    "\n",
    "I can never mute alone for long. When I'm with someone this fear all goes away, of course, but I can't play  alone.\n",
    "\n",
    "Are there any  that weirdly freak you out?\"\n",
    "\"\"\""
   ]
  },
  {
   "cell_type": "code",
   "execution_count": 44,
   "metadata": {},
   "outputs": [
    {
     "data": {
      "text/plain": [
       "array(['Music', 'Movie and Show', 'Music'], dtype='<U14')"
      ]
     },
     "execution_count": 44,
     "metadata": {},
     "output_type": "execute_result"
    }
   ],
   "source": [
    "p.predict(np.array([\"hi this is me as I like dungeons and dragons\",\"What do you guys like watching?\",a]))"
   ]
  },
  {
   "cell_type": "code",
   "execution_count": 47,
   "metadata": {},
   "outputs": [
    {
     "name": "stderr",
     "output_type": "stream",
     "text": [
      "D:\\Softwares\\Anaconda3\\lib\\site-packages\\sklearn\\preprocessing\\label.py:151: DeprecationWarning: The truth value of an empty array is ambiguous. Returning False, but in future this will result in an error. Use `array.size > 0` to check that an array is not empty.\n",
      "  if diff:\n",
      "D:\\Softwares\\Anaconda3\\lib\\site-packages\\sklearn\\preprocessing\\label.py:151: DeprecationWarning: The truth value of an empty array is ambiguous. Returning False, but in future this will result in an error. Use `array.size > 0` to check that an array is not empty.\n",
      "  if diff:\n",
      "D:\\Softwares\\Anaconda3\\lib\\site-packages\\sklearn\\preprocessing\\label.py:151: DeprecationWarning: The truth value of an empty array is ambiguous. Returning False, but in future this will result in an error. Use `array.size > 0` to check that an array is not empty.\n",
      "  if diff:\n",
      "[Parallel(n_jobs=1)]: Done   3 out of   3 | elapsed:   34.6s finished\n"
     ]
    },
    {
     "data": {
      "text/plain": [
       "array([0.7620651 , 0.71380471, 0.70561798])"
      ]
     },
     "execution_count": 47,
     "metadata": {},
     "output_type": "execute_result"
    }
   ],
   "source": [
    "from xgboost import XGBClassifier\n",
    "\n",
    "tfidf = TfidfVectorizer(max_features=max_features, tokenizer=word_tokenize, ngram_range=(2, 2), analyzer='word', \n",
    "                        stop_words='english')\n",
    "sm = Stemmer()\n",
    "xgb = XGBClassifier(max_depth=3, n_estimators=300, learning_rate=0.1)\n",
    "p = Pipeline([\n",
    "    ('sm', sm),\n",
    "    ('tfidf', tfidf),\n",
    "    ('xgb', xgb)\n",
    "])\n",
    "\n",
    "cross_val_score(estimator=p, X=x, y=y, scoring=scoring, cv=cv, n_jobs=n_jobs, verbose=1)"
   ]
  },
  {
   "cell_type": "code",
   "execution_count": null,
   "metadata": {},
   "outputs": [],
   "source": [
    "# Same metrics as Github tutorial for raw data features\n",
    "from sklearn.metrics import classification_report, confusion_matrix\n",
    "labels = {1:'Music', 2:'Movie and Show', 3:'Gaming',\n",
    "          4:'SITTING', 5:'STANDING', 6:'LAYING'}\n",
    "\n",
    "print(classification_report(label, raw_test_y[::step_size_data],\n",
    "                            target_names=[l for l in labels.values()]))\n",
    "\n",
    "conf_mat = confusion_matrix(label, raw_test_y[::step_size_data])\n",
    "\n",
    "fig = plt.figure(figsize=(6,6))\n",
    "width = np.shape(conf_mat)[1]\n",
    "height = np.shape(conf_mat)[0]\n",
    "\n",
    "res = plt.imshow(np.array(conf_mat), cmap=plt.cm.summer, interpolation='nearest')\n",
    "for i, row in enumerate(conf_mat):\n",
    "    for j, c in enumerate(row):\n",
    "        if c>0:\n",
    "            plt.text(j-.2, i+.1, c, fontsize=16)\n",
    "            \n",
    "cb = fig.colorbar(res)\n",
    "plt.title('Confusion Matrix')\n",
    "_ = plt.xticks(range(6), [l for l in labels.values()], rotation=90)\n",
    "_ = plt.yticks(range(6), [l for l in labels.values()])"
   ]
  }
 ],
 "metadata": {
  "kernelspec": {
   "display_name": "Python 3",
   "language": "python",
   "name": "python3"
  },
  "language_info": {
   "codemirror_mode": {
    "name": "ipython",
    "version": 3
   },
   "file_extension": ".py",
   "mimetype": "text/x-python",
   "name": "python",
   "nbconvert_exporter": "python",
   "pygments_lexer": "ipython3",
   "version": "3.6.5"
  }
 },
 "nbformat": 4,
 "nbformat_minor": 2
}
