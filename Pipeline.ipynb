{
 "cells": [
  {
   "cell_type": "code",
   "execution_count": 49,
   "metadata": {},
   "outputs": [],
   "source": [
    "import pandas as pd\n",
    "import numpy as np\n",
    "from scipy import sparse\n",
    "import json\n",
    "\n",
    "from nltk.stem import WordNetLemmatizer\n",
    "from nltk.stem.porter import *\n",
    "from nltk import word_tokenize\n",
    "\n",
    "from sklearn.pipeline import Pipeline, make_pipeline, FeatureUnion\n",
    "from sklearn.feature_extraction.text import TfidfVectorizer\n",
    "from sklearn.base import BaseEstimator, ClassifierMixin\n",
    "from sklearn.linear_model import LogisticRegression\n",
    "from sklearn.model_selection import cross_val_score, GridSearchCV, RandomizedSearchCV\n",
    "from sklearn.metrics import accuracy_score"
   ]
  },
  {
   "cell_type": "code",
   "execution_count": 11,
   "metadata": {},
   "outputs": [],
   "source": [
    "submissions = []\n",
    "\n",
    "with open('submissions_CasualConversation_all_months_filtered.json', 'r') as save_file:\n",
    "    saved_lines = save_file.readlines()\n",
    "    for line in saved_lines:\n",
    "        json_line = json.loads(line)\n",
    "        submissions.append(json_line)"
   ]
  },
  {
   "cell_type": "code",
   "execution_count": 12,
   "metadata": {},
   "outputs": [],
   "source": [
    "def split_train_test(submissions,train_set_fraction,randomize=True):\n",
    "    ''' Function for splitting data in training and test set\n",
    "    \n",
    "    =========================== ===============================================\n",
    "    Attribute                   Description\n",
    "    =========================== ===============================================\n",
    "    \"data\"                      The data that needs to be split up.\n",
    "    \"train_set_fraction\"        The fraction of the data that needs to be in \n",
    "                                the training set. \n",
    "    \"randomize\"                 Whether the order of the data should be \n",
    "                                shuffled.\n",
    "    =========================== ===============================================\n",
    "    '''\n",
    "    data = []\n",
    "    for submission in submissions:\n",
    "        text = submission['title'] + '\\n' + submission['selftext']\n",
    "        label = submission['link_flair_text']\n",
    "        data.append([text,label])\n",
    "    if(randomize): np.random.shuffle(data)\n",
    "    trainsize = round(len(data) * train_set_fraction)\n",
    "\n",
    "    train_set = [entry[0] for entry in data[:trainsize]]\n",
    "    test_set = [entry[0] for entry in data[trainsize:]]\n",
    "    train_labels = [entry[1] for entry in data[:trainsize]]\n",
    "    test_labels = [entry[1] for entry in data[trainsize:]]\n",
    "    return train_set, test_set, train_labels, test_labels"
   ]
  },
  {
   "cell_type": "code",
   "execution_count": 13,
   "metadata": {},
   "outputs": [],
   "source": [
    "train_x, test_x, train_y, test_y = split_train_test(submissions,0.8)"
   ]
  },
  {
   "cell_type": "code",
   "execution_count": 14,
   "metadata": {},
   "outputs": [],
   "source": [
    "x=np.array(train_x)\n",
    "y=np.array(train_y)"
   ]
  },
  {
   "cell_type": "code",
   "execution_count": 15,
   "metadata": {},
   "outputs": [],
   "source": [
    "# default params\n",
    "scoring='accuracy'\n",
    "cv=3\n",
    "n_jobs=1\n",
    "max_features = 2500"
   ]
  },
  {
   "cell_type": "code",
   "execution_count": 16,
   "metadata": {},
   "outputs": [],
   "source": [
    "class Stemmer(BaseEstimator):\n",
    "    def __init__(self):\n",
    "        self.l = PorterStemmer()\n",
    "        \n",
    "    def fit(self, x, y=None):\n",
    "        return self\n",
    "    \n",
    "    def transform(self, x):\n",
    "        x = map(lambda text:  ' '.join([self.l.stem(word.lower()) for word in text.split()]), x)\n",
    "        x = np.array(list(x))\n",
    "        return x"
   ]
  },
  {
   "cell_type": "code",
   "execution_count": 17,
   "metadata": {},
   "outputs": [
    {
     "name": "stderr",
     "output_type": "stream",
     "text": [
      "[Parallel(n_jobs=1)]: Done   3 out of   3 | elapsed:   20.6s finished\n"
     ]
    },
    {
     "data": {
      "text/plain": [
       "array([0.72390572, 0.73400673, 0.74044944])"
      ]
     },
     "execution_count": 17,
     "metadata": {},
     "output_type": "execute_result"
    }
   ],
   "source": [
    "tfidf = TfidfVectorizer(max_features=max_features, tokenizer=word_tokenize, ngram_range=(2, 2), analyzer='word', \n",
    "                        stop_words='english')\n",
    "sm = Stemmer()\n",
    "lr = LogisticRegression()\n",
    "p = Pipeline([\n",
    "    ('sm', sm),\n",
    "    ('tfidf', tfidf),\n",
    "    ('lr', lr)\n",
    "])\n",
    "\n",
    "cross_val_score(estimator=p, X=x, y=y, scoring=scoring, cv=cv, n_jobs=n_jobs, verbose=1)"
   ]
  },
  {
   "cell_type": "code",
   "execution_count": 18,
   "metadata": {},
   "outputs": [
    {
     "name": "stderr",
     "output_type": "stream",
     "text": [
      "[Parallel(n_jobs=1)]: Done   3 out of   3 | elapsed:   26.5s finished\n"
     ]
    },
    {
     "data": {
      "text/plain": [
       "array([0.88888889, 0.8956229 , 0.88539326])"
      ]
     },
     "execution_count": 18,
     "metadata": {},
     "output_type": "execute_result"
    }
   ],
   "source": [
    "sm = Stemmer()\n",
    "tfidf_w = TfidfVectorizer(max_features=max_features, tokenizer=word_tokenize, ngram_range=(1, 5),analyzer='word', \n",
    "                          stop_words='english')\n",
    "tfidf_c = TfidfVectorizer(max_features=max_features, analyzer='char')\n",
    "lr = LogisticRegression()\n",
    "p = Pipeline([\n",
    "    ('sm', sm),\n",
    "    ('wc_tfidfs', \n",
    "         FeatureUnion([\n",
    "            ('tfidf_w', tfidf_w), \n",
    "            ('tfidf_c', tfidf_c), \n",
    "         ])\n",
    "    ),\n",
    "    ('lr', lr)\n",
    "])\n",
    "\n",
    "cross_val_score(estimator=p, X=x, y=y, scoring=scoring, cv=cv, n_jobs=n_jobs, verbose=1)"
   ]
  },
  {
   "cell_type": "code",
   "execution_count": 19,
   "metadata": {},
   "outputs": [
    {
     "data": {
      "text/plain": [
       "Pipeline(memory=None,\n",
       "     steps=[('sm', Stemmer()), ('wc_tfidfs', FeatureUnion(n_jobs=1,\n",
       "       transformer_list=[('tfidf_w', TfidfVectorizer(analyzer='word', binary=False, decode_error='strict',\n",
       "        dtype=<class 'numpy.int64'>, encoding='utf-8', input='content',\n",
       "        lowercase=True, max_df=1.0, max_features=2500, min...ty='l2', random_state=None, solver='liblinear', tol=0.0001,\n",
       "          verbose=0, warm_start=False))])"
      ]
     },
     "execution_count": 19,
     "metadata": {},
     "output_type": "execute_result"
    }
   ],
   "source": [
    "p.fit(x,y)"
   ]
  },
  {
   "cell_type": "code",
   "execution_count": 20,
   "metadata": {},
   "outputs": [],
   "source": [
    "predictions = p.predict(np.array(test_x))"
   ]
  },
  {
   "cell_type": "code",
   "execution_count": 22,
   "metadata": {},
   "outputs": [],
   "source": [
    "from sklearn.metrics import accuracy_score\n",
    "from sklearn.metrics import confusion_matrix\n",
    "# from plot_confusion_matrix import plot_confusion_matrix\n",
    "\n",
    "\n",
    "import matplotlib.pyplot as plt\n",
    "from sklearn.utils.multiclass import unique_labels\n",
    "\n",
    "def plot_confusion_matrix(y_true, y_pred, classes,\n",
    "                          normalize=False,\n",
    "                          title=None,\n",
    "                          cmap=plt.cm.Blues):\n",
    "    \"\"\"\n",
    "    This function prints and plots the confusion matrix.\n",
    "    Normalization can be applied by setting `normalize=True`.\n",
    "    \"\"\"\n",
    "    if not title:\n",
    "        if normalize:\n",
    "            title = 'Normalized confusion matrix'\n",
    "        else:\n",
    "            title = 'Confusion matrix, without normalization'\n",
    "\n",
    "    # Compute confusion matrix\n",
    "    cm = confusion_matrix(y_true, y_pred)\n",
    "    # Only use the labels that appear in the data\n",
    "    if normalize:\n",
    "        cm = cm.astype('float') / cm.sum(axis=1)[:, np.newaxis]\n",
    "        print(\"Normalized confusion matrix\")\n",
    "    else:\n",
    "        print('Confusion matrix, without normalization')\n",
    "\n",
    "    print(cm)\n",
    "\n",
    "    fig, ax = plt.subplots()\n",
    "    im = ax.imshow(cm, interpolation='nearest', cmap=cmap)\n",
    "    ax.figure.colorbar(im, ax=ax)\n",
    "    # We want to show all ticks...\n",
    "    ax.set(xticks=np.arange(cm.shape[1]),\n",
    "           yticks=np.arange(cm.shape[0]),\n",
    "           # ... and label them with the respective list entries\n",
    "           xticklabels=classes, yticklabels=classes,\n",
    "           title=title,\n",
    "           ylabel='True label',\n",
    "           xlabel='Predicted label')\n",
    "\n",
    "    # Rotate the tick labels and set their alignment.\n",
    "    plt.setp(ax.get_xticklabels(), rotation=45, ha=\"right\",\n",
    "             rotation_mode=\"anchor\")\n",
    "\n",
    "    # Loop over data dimensions and create text annotations.\n",
    "    fmt = '.2f' if normalize else 'd'\n",
    "    thresh = cm.max() / 2.\n",
    "    for i in range(cm.shape[0]):\n",
    "        for j in range(cm.shape[1]):\n",
    "            ax.text(j, i, format(cm[i, j], fmt),\n",
    "                    ha=\"center\", va=\"center\",\n",
    "                    color=\"white\" if cm[i, j] > thresh else \"black\")\n",
    "    fig.tight_layout()\n",
    "    return ax"
   ]
  },
  {
   "cell_type": "code",
   "execution_count": 23,
   "metadata": {},
   "outputs": [
    {
     "name": "stdout",
     "output_type": "stream",
     "text": [
      "0.905688622754491\n",
      "Normalized confusion matrix\n",
      "[[0.68085106 0.0212766  0.10638298 0.19148936 0.        ]\n",
      " [0.         0.95628415 0.01639344 0.0273224  0.        ]\n",
      " [0.0125     0.01875    0.925      0.04375    0.        ]\n",
      " [0.         0.02352941 0.01568627 0.96078431 0.        ]\n",
      " [0.         0.2173913  0.26086957 0.30434783 0.2173913 ]]\n"
     ]
    },
    {
     "data": {
      "text/plain": [
       "<matplotlib.axes._subplots.AxesSubplot at 0x170886cccf8>"
      ]
     },
     "execution_count": 23,
     "metadata": {},
     "output_type": "execute_result"
    },
    {
     "data": {
      "image/png": "[encoded data removed]",
      "text/plain": [
       "<Figure size 432x288 with 2 Axes>"
      ]
     },
     "metadata": {},
     "output_type": "display_data"
    }
   ],
   "source": [
    "labels = ['Music','Movie and Show', 'Gaming', 'Book', 'Neat']\n",
    "y_pred = predictions\n",
    "y_true = np.array(test_y)\n",
    "print(accuracy_score(y_true, y_pred))\n",
    "confusion_matrix(y_true, y_pred)\n",
    "plot_confusion_matrix(y_true, y_pred, classes=np.array(labels), normalize=True)\n",
    "# classes=np.array(labels)\n",
    "# i = classes[unique_labels(y_true, y_pred)]"
   ]
  },
  {
   "cell_type": "code",
   "execution_count": 25,
   "metadata": {},
   "outputs": [
    {
     "name": "stderr",
     "output_type": "stream",
     "text": [
      "D:\\Softwares\\Anaconda3\\lib\\site-packages\\sklearn\\preprocessing\\label.py:151: DeprecationWarning: The truth value of an empty array is ambiguous. Returning False, but in future this will result in an error. Use `array.size > 0` to check that an array is not empty.\n",
      "  if diff:\n",
      "D:\\Softwares\\Anaconda3\\lib\\site-packages\\sklearn\\preprocessing\\label.py:151: DeprecationWarning: The truth value of an empty array is ambiguous. Returning False, but in future this will result in an error. Use `array.size > 0` to check that an array is not empty.\n",
      "  if diff:\n",
      "D:\\Softwares\\Anaconda3\\lib\\site-packages\\sklearn\\preprocessing\\label.py:151: DeprecationWarning: The truth value of an empty array is ambiguous. Returning False, but in future this will result in an error. Use `array.size > 0` to check that an array is not empty.\n",
      "  if diff:\n",
      "[Parallel(n_jobs=1)]: Done   3 out of   3 | elapsed:   57.0s finished\n"
     ]
    },
    {
     "data": {
      "text/plain": [
       "array([0.74410774, 0.75308642, 0.71573034])"
      ]
     },
     "execution_count": 25,
     "metadata": {},
     "output_type": "execute_result"
    }
   ],
   "source": [
    "from xgboost import XGBClassifier\n",
    "\n",
    "tfidf = TfidfVectorizer(max_features=max_features, tokenizer=word_tokenize, ngram_range=(2, 2), analyzer='word', \n",
    "                        stop_words='english')\n",
    "sm = Stemmer()\n",
    "xgb = XGBClassifier(max_depth=10, n_estimators=300, learning_rate=0.1)\n",
    "p = Pipeline([\n",
    "    ('sm', sm),\n",
    "    ('tfidf', tfidf),\n",
    "    ('xgb', xgb)\n",
    "])\n",
    "\n",
    "cross_val_score(estimator=p, X=x, y=y, scoring=scoring, cv=cv, n_jobs=n_jobs, verbose=1)"
   ]
  },
  {
   "cell_type": "raw",
   "metadata": {},
   "source": []
  },
  {
   "cell_type": "code",
   "execution_count": 38,
   "metadata": {},
   "outputs": [
    {
     "name": "stderr",
     "output_type": "stream",
     "text": [
      "D:\\Softwares\\Anaconda3\\lib\\site-packages\\sklearn\\preprocessing\\label.py:151: DeprecationWarning: The truth value of an empty array is ambiguous. Returning False, but in future this will result in an error. Use `array.size > 0` to check that an array is not empty.\n",
      "  if diff:\n",
      "D:\\Softwares\\Anaconda3\\lib\\site-packages\\sklearn\\preprocessing\\label.py:151: DeprecationWarning: The truth value of an empty array is ambiguous. Returning False, but in future this will result in an error. Use `array.size > 0` to check that an array is not empty.\n",
      "  if diff:\n",
      "D:\\Softwares\\Anaconda3\\lib\\site-packages\\sklearn\\preprocessing\\label.py:151: DeprecationWarning: The truth value of an empty array is ambiguous. Returning False, but in future this will result in an error. Use `array.size > 0` to check that an array is not empty.\n",
      "  if diff:\n",
      "[Parallel(n_jobs=1)]: Done   3 out of   3 | elapsed:  1.5min finished\n"
     ]
    },
    {
     "data": {
      "text/plain": [
       "array([0.91245791, 0.91245791, 0.91235955])"
      ]
     },
     "execution_count": 38,
     "metadata": {},
     "output_type": "execute_result"
    }
   ],
   "source": [
    "sm = Stemmer()\n",
    "tfidf_w = TfidfVectorizer(max_features=max_features, tokenizer=word_tokenize, ngram_range=(1, 5),analyzer='word', \n",
    "                          stop_words='english')\n",
    "tfidf_c = TfidfVectorizer(max_features=max_features, analyzer='char')\n",
    "xgb = XGBClassifier(max_depth=10, n_estimators=300, learning_rate=0.1)\n",
    "p = Pipeline([\n",
    "    ('sm', sm),\n",
    "    ('wc_tfidfs', \n",
    "         FeatureUnion([\n",
    "            ('tfidf_w', tfidf_w), \n",
    "            ('tfidf_c', tfidf_c), \n",
    "         ])\n",
    "    ),\n",
    "    ('xgb', xgb)\n",
    "])\n",
    "\n",
    "cross_val_score(estimator=p, X=x, y=y, scoring=scoring, cv=cv, n_jobs=n_jobs, verbose=1)"
   ]
  },
  {
   "cell_type": "code",
   "execution_count": 39,
   "metadata": {},
   "outputs": [
    {
     "name": "stderr",
     "output_type": "stream",
     "text": [
      "D:\\Softwares\\Anaconda3\\lib\\site-packages\\sklearn\\preprocessing\\label.py:151: DeprecationWarning: The truth value of an empty array is ambiguous. Returning False, but in future this will result in an error. Use `array.size > 0` to check that an array is not empty.\n",
      "  if diff:\n",
      "D:\\Softwares\\Anaconda3\\lib\\site-packages\\sklearn\\preprocessing\\label.py:151: DeprecationWarning: The truth value of an empty array is ambiguous. Returning False, but in future this will result in an error. Use `array.size > 0` to check that an array is not empty.\n",
      "  if diff:\n",
      "D:\\Softwares\\Anaconda3\\lib\\site-packages\\sklearn\\preprocessing\\label.py:151: DeprecationWarning: The truth value of an empty array is ambiguous. Returning False, but in future this will result in an error. Use `array.size > 0` to check that an array is not empty.\n",
      "  if diff:\n",
      "[Parallel(n_jobs=1)]: Done   3 out of   3 | elapsed:   45.2s finished\n"
     ]
    },
    {
     "data": {
      "text/plain": [
       "array([0.91358025, 0.91694725, 0.91235955])"
      ]
     },
     "execution_count": 39,
     "metadata": {},
     "output_type": "execute_result"
    }
   ],
   "source": [
    "from lightgbm import LGBMClassifier as lgb\n",
    "\n",
    "sm = Stemmer()\n",
    "tfidf_w = TfidfVectorizer(max_features=max_features, tokenizer=word_tokenize, ngram_range=(1, 5),analyzer='word', \n",
    "                          stop_words='english')\n",
    "tfidf_c = TfidfVectorizer(max_features=max_features, analyzer='char')\n",
    "lgbm = lgb(max_depth=10, n_estimators=300, learning_rate=0.1)\n",
    "p = Pipeline([\n",
    "    ('sm', sm),\n",
    "    ('wc_tfidfs', \n",
    "         FeatureUnion([\n",
    "            ('tfidf_w', tfidf_w), \n",
    "            ('tfidf_c', tfidf_c), \n",
    "         ])\n",
    "    ),\n",
    "    ('lgbm', lgbm)\n",
    "])\n",
    "\n",
    "cross_val_score(estimator=p, X=x, y=y, scoring=scoring, cv=cv, n_jobs=n_jobs, verbose=1)"
   ]
  },
  {
   "cell_type": "code",
   "execution_count": null,
   "metadata": {},
   "outputs": [],
   "source": [
    "a = \"\"\"\n",
    "I don't like playing  MUSIC song music melody alone. It's very eerie. I can't deal with it, it really freaks me out. The dark, long The near-silent forests. The shadows dancing at the edge of my screen.\n",
    "\n",
    "It doesn't help my current world has a weird pitch where some of the nearby forests are lit up despite the lack of any light sources.\n",
    "\n",
    "I can never mute alone for long. When I'm with someone this fear all goes away, of course, but I can't play  alone.\n",
    "\n",
    "Are there any  that weirdly freak you out?\"\n",
    "\"\"\""
   ]
  },
  {
   "cell_type": "code",
   "execution_count": null,
   "metadata": {},
   "outputs": [],
   "source": [
    "p.predict(np.array([\"hi this is me as I like dungeons and dragons\",\"What do you guys like watching?\",a]))"
   ]
  },
  {
   "cell_type": "code",
   "execution_count": 28,
   "metadata": {},
   "outputs": [],
   "source": [
    "class ToDense(BaseEstimator):\n",
    "\n",
    "    def fit(self, x, y=None):\n",
    "        return self\n",
    "    \n",
    "    def transform(self, x):\n",
    "        return x.toarray()"
   ]
  },
  {
   "cell_type": "code",
   "execution_count": 30,
   "metadata": {},
   "outputs": [
    {
     "name": "stderr",
     "output_type": "stream",
     "text": [
      "[Parallel(n_jobs=1)]: Done   3 out of   3 | elapsed:   25.9s finished\n"
     ]
    },
    {
     "data": {
      "text/plain": [
       "array([0.65993266, 0.67452301, 0.65955056])"
      ]
     },
     "execution_count": 30,
     "metadata": {},
     "output_type": "execute_result"
    }
   ],
   "source": [
    "from sklearn.naive_bayes import GaussianNB\n",
    "\n",
    "sm = Stemmer()\n",
    "tfidf_w = TfidfVectorizer(max_features=max_features, tokenizer=word_tokenize, ngram_range=(1, 5),analyzer='word', \n",
    "                          stop_words='english')\n",
    "tfidf_c = TfidfVectorizer(max_features=max_features, analyzer='char')\n",
    "gnb = GaussianNB()\n",
    "td = ToDense()\n",
    "p = Pipeline([\n",
    "    ('sm', sm),\n",
    "    ('wc_tfidfs', \n",
    "         FeatureUnion([\n",
    "            ('tfidf_w', tfidf_w), \n",
    "            ('tfidf_c', tfidf_c), \n",
    "         ])\n",
    "    ),\n",
    "    ('td', td),\n",
    "    ('gnb', gnb)\n",
    "])\n",
    "\n",
    "cross_val_score(estimator=p, X=x, y=y, scoring=scoring, cv=cv, n_jobs=n_jobs, verbose=1)"
   ]
  },
  {
   "cell_type": "code",
   "execution_count": 31,
   "metadata": {},
   "outputs": [
    {
     "name": "stderr",
     "output_type": "stream",
     "text": [
      "[Parallel(n_jobs=1)]: Done   3 out of   3 | elapsed:   25.2s finished\n"
     ]
    },
    {
     "data": {
      "text/plain": [
       "array([0.76655443, 0.76094276, 0.76404494])"
      ]
     },
     "execution_count": 31,
     "metadata": {},
     "output_type": "execute_result"
    }
   ],
   "source": [
    "from sklearn.naive_bayes import MultinomialNB\n",
    "\n",
    "sm = Stemmer()\n",
    "tfidf_w = TfidfVectorizer(max_features=max_features, tokenizer=word_tokenize, ngram_range=(1, 5),analyzer='word', \n",
    "                          stop_words='english')\n",
    "tfidf_c = TfidfVectorizer(max_features=max_features, analyzer='char')\n",
    "mnb = MultinomialNB()\n",
    "td = ToDense()\n",
    "p = Pipeline([\n",
    "    ('sm', sm),\n",
    "    ('wc_tfidfs', \n",
    "         FeatureUnion([\n",
    "            ('tfidf_w', tfidf_w), \n",
    "            ('tfidf_c', tfidf_c), \n",
    "         ])\n",
    "    ),\n",
    "    ('td', td),\n",
    "    ('mnb', mnb)\n",
    "])\n",
    "\n",
    "cross_val_score(estimator=p, X=x, y=y, scoring=scoring, cv=cv, n_jobs=n_jobs, verbose=1)"
   ]
  },
  {
   "cell_type": "code",
   "execution_count": 46,
   "metadata": {},
   "outputs": [
    {
     "data": {
      "text/plain": [
       "\"Settings in fiction, e.g. movies and games\\nI have a question about settings in fictional media, such as / especially movies, TV shows and PC and console games. Not sure if it's always true, but least to me, it seems that American and other Western-made (Western = North America, Australia and Europe, especially western Eu countries like the UK) fiction tends to have realistic/real-word and modern settings. In contast, it's often fantasy for Asian or Eastern (Japanese, Korean, Chinese, etc.) fiction, and not only that, but their settings also tend to be anything other than modern or futuristic/sci-fi, instead it's often medieval or another historical time period.\\n\\nQuestion is, why is this the case? I'm not trying to say that Americans and Westerners are more realistic-minded or modern, nor am I saying that Asians/Easterners are unrealistic or backwards-thinking. I'm just asking why it seems that, well, I already said it above.\""
      ]
     },
     "execution_count": 46,
     "metadata": {},
     "output_type": "execute_result"
    }
   ],
   "source": [
    "test_x[3]"
   ]
  },
  {
   "cell_type": "code",
   "execution_count": 48,
   "metadata": {},
   "outputs": [
    {
     "data": {
      "text/plain": [
       "'[TV shows and movies] DAE think people always get angry when antagonists does something bad but excuse horrible actions by protagonists?\\n**[Conversation concluded]**\\n\\n[Posting it here cause I cant think of a better subreddit]\\n\\nI see it all the time. When an antagonist does something bad, people would act like moral police over trivial things. But a protagonist does something bad, it\\'s okay.\\n\\nhttps://www.youtube.com/watch?v=BWw0KCLcKHc\\n\\nIn this movie (*Disturbia [2007]*), the protagonist\\'s dad died a year ago in a car accident and is slacking off in class. Teacher says \"what would your father think of you now?\" and kid punches him. Tbh such a question isnt that offensive. It is somewhat true if you think about it. His dad (if still alive) wouldn\\'t be happy if his kid is slacking off in class. The tragedy happened a year ago. I mean the viewers dont see it but the teacher could have been nice to him but turned impatient at his unwillingness to move on. The teacher might not have been the nicest person in existence but what he did was not that bad. I mean look at the comments of the video and you see how upset the viewers are. (Yeah, i didnt say the teacher was completely innocent but such an action doesnt really warrant a punch. Look at the amount of bad things people do in real life, such as raping, murdering, terrorism, etc. What the teacher did was nothing compared to those. Not invalidating the kid\\'s grief but just trying to think of the situation from the teacher\\'s POV.)\\n\\nThen in the movie *Saw 6*, the protagonist is **indirectly** responsible for an antagonist\\'s father death. The antagonists kills him in the end but people are angry with him even though his actions were understandable.\\n\\nLong story short, it\\'s alright when a protagonist does something horrible when it\\'s understandable but when antagonist does something understandable, then they\\'re monsters? Am I the only one who thinks people are too fussy and hypocritical about what happens in fiction? I could give more examples but you probably get the picture by now.\\n\\n(BTW, I didnt say too much about the two movies above, so I hope this doesnt trigger spoiler sensitive people here.)\\n\\nEDIT: [One hour passed and still no comments. Please dont delete this. I have something to do and will be back in (at most) 5 hours.]'"
      ]
     },
     "execution_count": 48,
     "metadata": {},
     "output_type": "execute_result"
    }
   ],
   "source": [
    "train_x[0][1]"
   ]
  },
  {
   "cell_type": "code",
   "execution_count": null,
   "metadata": {},
   "outputs": [],
   "source": []
  }
 ],
 "metadata": {
  "kernelspec": {
   "display_name": "Python 3",
   "language": "python",
   "name": "python3"
  },
  "language_info": {
   "codemirror_mode": {
    "name": "ipython",
    "version": 3
   },
   "file_extension": ".py",
   "mimetype": "text/x-python",
   "name": "python",
   "nbconvert_exporter": "python",
   "pygments_lexer": "ipython3",
   "version": "3.6.5"
  }
 },
 "nbformat": 4,
 "nbformat_minor": 2
}
