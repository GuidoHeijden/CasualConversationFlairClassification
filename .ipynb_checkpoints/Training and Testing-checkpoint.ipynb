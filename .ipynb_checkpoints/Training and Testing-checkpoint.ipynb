{
 "cells": [
  {
   "cell_type": "code",
   "execution_count": 1,
   "metadata": {},
   "outputs": [],
   "source": [
    "import json\n",
    "import numpy as np"
   ]
  },
  {
   "cell_type": "code",
   "execution_count": 2,
   "metadata": {},
   "outputs": [],
   "source": [
    "submissions = []\n",
    "\n",
    "with open('submissions_CasualConversation_all_months_filtered.json', 'r') as save_file:\n",
    "    saved_lines = save_file.readlines()\n",
    "    for line in saved_lines:\n",
    "        json_line = json.loads(line)\n",
    "        submissions.append(json_line)"
   ]
  },
  {
   "cell_type": "code",
   "execution_count": 3,
   "metadata": {},
   "outputs": [],
   "source": [
    "def split_train_test(submissions,train_set_fraction,randomize=True):\n",
    "    ''' Function for splitting data in training and test set\n",
    "    \n",
    "    =========================== ===============================================\n",
    "    Attribute                   Description\n",
    "    =========================== ===============================================\n",
    "    \"data\"                      The data that needs to be split up.\n",
    "    \"train_set_fraction\"        The fraction of the data that needs to be in \n",
    "                                the training set. \n",
    "    \"randomize\"                 Whether the order of the data should be \n",
    "                                shuffled.\n",
    "    =========================== ===============================================\n",
    "    '''\n",
    "    data = []\n",
    "    for submission in submissions:\n",
    "        text = submission['title'] + '\\n' + submission['selftext']\n",
    "        label = submission['link_flair_text']\n",
    "        data.append([text,label])\n",
    "    if(randomize): np.random.shuffle(data)\n",
    "    trainsize = round(len(data) * train_set_fraction)\n",
    "\n",
    "    train_set = [entry[0] for entry in data[:trainsize]]\n",
    "    test_set = [entry[0] for entry in data[trainsize:]]\n",
    "    train_labels = [entry[1] for entry in data[:trainsize]]\n",
    "    test_labels = [entry[1] for entry in data[trainsize:]]\n",
    "    return train_set, test_set, train_labels, test_labels"
   ]
  },
  {
   "cell_type": "code",
   "execution_count": 4,
   "metadata": {},
   "outputs": [],
   "source": [
    "train_x, test_x, train_y, test_y = split_train_test(submissions,0.8)"
   ]
  },
  {
   "cell_type": "code",
   "execution_count": null,
   "metadata": {},
   "outputs": [],
   "source": []
  }
 ],
 "metadata": {
  "kernelspec": {
   "display_name": "Python 3",
   "language": "python",
   "name": "python3"
  },
  "language_info": {
   "codemirror_mode": {
    "name": "ipython",
    "version": 3
   },
   "file_extension": ".py",
   "mimetype": "text/x-python",
   "name": "python",
   "nbconvert_exporter": "python",
   "pygments_lexer": "ipython3",
   "version": "3.6.5"
  }
 },
 "nbformat": 4,
 "nbformat_minor": 2
}
