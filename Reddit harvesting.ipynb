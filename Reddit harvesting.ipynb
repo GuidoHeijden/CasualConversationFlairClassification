{
 "cells": [
  {
   "cell_type": "code",
   "execution_count": 8,
   "metadata": {},
   "outputs": [],
   "source": [
    "import praw # Source code : https://github.com/praw-dev/praw\n",
    "\n",
    "# Initialising a connection to Reddit\n",
    "reddit = praw.Reddit(user_agent='Comment Extraction (by /u/reaguurdermeneer)',\n",
    "                     client_id='hir_Veg3Rs-Svw', client_secret=\"giRkbKknUe4Oy4EcoGYA1N_Y0sA\",\n",
    "                     username='reaguurdermeneer', password='...')"
   ]
  },
  {
   "cell_type": "code",
   "execution_count": 14,
   "metadata": {},
   "outputs": [],
   "source": [
    "r_CasualConversation = reddit.subreddit('CasualConversation')"
   ]
  },
  {
   "cell_type": "code",
   "execution_count": 91,
   "metadata": {},
   "outputs": [
    {
     "name": "stdout",
     "output_type": "stream",
     "text": [
      "https://www.reddit.com/r/CasualConversation/comments/ayvu98\n",
      "https://www.reddit.com/r/CasualConversation/comments/azs3bb\n",
      "https://www.reddit.com/r/CasualConversation/comments/azw69v\n",
      "https://www.reddit.com/r/CasualConversation/comments/azzm5r\n",
      "https://www.reddit.com/r/CasualConversation/comments/azxa8o\n",
      "\"a_submission\" is \"azxa8o\".\n"
     ]
    }
   ],
   "source": [
    "# Submission extraction\n",
    "\n",
    "for submission in r_CasualConversation.hot(limit=5):\n",
    "    print('https://www.reddit.com/r/CasualConversation/comments/'+str(submission))\n",
    "    submission_id = submission\n",
    "a_submission = reddit.submission(submission_id)\n",
    "print('\"a_submission\" is \"' + str(submission_id) + '\".')"
   ]
  },
  {
   "cell_type": "code",
   "execution_count": 78,
   "metadata": {},
   "outputs": [
    {
     "name": "stdout",
     "output_type": "stream",
     "text": [
      ":film: Movies & Shows\n"
     ]
    }
   ],
   "source": [
    "# Flair of the submission (note that there are different formats)\n",
    "print(a_submission.link_flair_text)"
   ]
  },
  {
   "cell_type": "code",
   "execution_count": 94,
   "metadata": {
    "scrolled": true
   },
   "outputs": [
    {
     "name": "stdout",
     "output_type": "stream",
     "text": [
      "I totally understand that clarity. I smoked for years. Stopped cause the short term memory issues I developed really scared me. I regret smoking so heavily. My brain hasn't worked the same since. I was a teen and no idea how I kept my grades up through it all. I'm not anti pot, all for it being legal and such, but I'm very glad I stopped for good. I have no desire to do it again. Haven't for over a decade. \n",
      "\n",
      "-  -  -  -  -  -  -  -  -  -  -  -  -  -  -  -  -  -  -  -  -  -  -  -  -  -  -  -  -  -  -  -  -  -  -  -  -  -  -  -  -  -\n",
      "\n",
      "That's awesome. My bf is an avid smoker as he just likes it and it helps his migraines and makes him feel normal. But he is very forgetful. I'd like to stop for a while so I can finally look for another job without the possibility of them drug testing. \n",
      "\n",
      "-  -  -  -  -  -  -  -  -  -  -  -  -  -  -  -  -  -  -  -  -  -  -  -  -  -  -  -  -  -  -  -  -  -  -  -  -  -  -  -  -  -\n",
      "\n",
      "Nice. I wish most of my lifelong pothead friends would stop for a few weeks just to remember the difference of life.  Are you dreaming more?\n",
      "\n",
      "-  -  -  -  -  -  -  -  -  -  -  -  -  -  -  -  -  -  -  -  -  -  -  -  -  -  -  -  -  -  -  -  -  -  -  -  -  -  -  -  -  -\n",
      "\n",
      "ya man :) smoking too often can get you in a rhythm where you just keep at it \"cause why not\" so I like to keep it infrequent, but thats me, stay chill my dude :)\n",
      "\n",
      "\n",
      "\n",
      "-  -  -  -  -  -  -  -  -  -  -  -  -  -  -  -  -  -  -  -  -  -  -  -  -  -  -  -  -  -  -  -  -  -  -  -  -  -  -  -  -  -\n",
      "\n",
      "OMG! Samesies. I had been smoking heavily for like 10+ years to the point where I was going through weed insanely fast just to feel even the slightest bit of anything. 2 weeks ago I got the flu so bad and my lungs were just fucked with mucus. So I stopped. I am feeling better now but still haven't touched a bowl because of the clear headed feeling you mentioned. I also started dreaming again. I don't dream when I go to bed high. And I have been loving it. I missed dreams.\n",
      "\n",
      "-  -  -  -  -  -  -  -  -  -  -  -  -  -  -  -  -  -  -  -  -  -  -  -  -  -  -  -  -  -  -  -  -  -  -  -  -  -  -  -  -  -\n",
      "\n",
      "Now you know where your keys are. \n",
      "\n",
      "-  -  -  -  -  -  -  -  -  -  -  -  -  -  -  -  -  -  -  -  -  -  -  -  -  -  -  -  -  -  -  -  -  -  -  -  -  -  -  -  -  -\n",
      "\n",
      "Did you happen to have especially vivid dreams for couple days after you quit? Always happens to me when I take a break.\n",
      "\n",
      "-  -  -  -  -  -  -  -  -  -  -  -  -  -  -  -  -  -  -  -  -  -  -  -  -  -  -  -  -  -  -  -  -  -  -  -  -  -  -  -  -  -\n",
      "\n",
      "Good for you! Clearing out is a necessity every once in a while. I have 9 days without a cigarette! I’m glad I have weed to help me through it.\n",
      "\n",
      "-  -  -  -  -  -  -  -  -  -  -  -  -  -  -  -  -  -  -  -  -  -  -  -  -  -  -  -  -  -  -  -  -  -  -  -  -  -  -  -  -  -\n",
      "\n",
      "I think that this is something more weed smokers should try for a week or so. I'm not at all against smoking weed and I am all for legalization, but the amount of potheads I know who constantly complain about always being tired and not getting anything done is a bit ridiculous\n",
      "\n",
      "-  -  -  -  -  -  -  -  -  -  -  -  -  -  -  -  -  -  -  -  -  -  -  -  -  -  -  -  -  -  -  -  -  -  -  -  -  -  -  -  -  -\n",
      "\n",
      "You Go man! I am on the same path. It’s taken me so many times to put the bong down but for whatever reason this time was it. I’m happy for you! \n",
      "\n",
      "-  -  -  -  -  -  -  -  -  -  -  -  -  -  -  -  -  -  -  -  -  -  -  -  -  -  -  -  -  -  -  -  -  -  -  -  -  -  -  -  -  -\n",
      "\n",
      "Nice man! I used to be a daily smoker now just a few times a month. It’s a lot more fun when it’s a treat instead of a daily thing. What made you stop?\n",
      "\n",
      "-  -  -  -  -  -  -  -  -  -  -  -  -  -  -  -  -  -  -  -  -  -  -  -  -  -  -  -  -  -  -  -  -  -  -  -  -  -  -  -  -  -\n",
      "\n",
      "I am coming off of a \\~7 week break myself. I didn't notice as much of an effect on my productivity, and I had trouble falling asleep most nights. When I did sleep, I also had vivid dreams every night. I ended up smoking again after a stressful week last week. But now I'm trying to keep it in moderation and see if I can limit myself to 2-3 nights a week.\n",
      "\n",
      "-  -  -  -  -  -  -  -  -  -  -  -  -  -  -  -  -  -  -  -  -  -  -  -  -  -  -  -  -  -  -  -  -  -  -  -  -  -  -  -  -  -\n",
      "\n",
      "good on ya.  i'm almost a year clean now.  gotta say, though, i miss it.  i actually got way, way more done.  it was my medication of sorts.  been on wellbutrin, prozac, zoloft, abilify, the list goes on.  and none worked like a lil thc.\n",
      "\n",
      "&#x200B;\n",
      "\n",
      "now...i just stay in feelings and sit as nothing gets done.  i used to smoke a ton and got so much work done in and out of the house.  \n",
      "\n",
      "&#x200B;\n",
      "\n",
      "glad to hear it's worked out for you, though.  :D\n",
      "\n",
      "&#x200B;\n",
      "\n",
      "-  -  -  -  -  -  -  -  -  -  -  -  -  -  -  -  -  -  -  -  -  -  -  -  -  -  -  -  -  -  -  -  -  -  -  -  -  -  -  -  -  -\n",
      "\n",
      "That is awesome to hear! Keep it up!\n",
      "\n",
      "-  -  -  -  -  -  -  -  -  -  -  -  -  -  -  -  -  -  -  -  -  -  -  -  -  -  -  -  -  -  -  -  -  -  -  -  -  -  -  -  -  -\n",
      "\n"
     ]
    }
   ],
   "source": [
    "# All top level comments on this submission\n",
    "for top_level_comment in a_submission.comments:\n",
    "    print(top_level_comment.body)\n",
    "    print('\\n-  -  -  -  -  -  -  -  -  -  -  -  -  -  -  -  -  -  -  -  -  -  -  -  -  -  -  -  -  -  -  -  -  -  -  -  -  -  -  -  -  -\\n')"
   ]
  },
  {
   "cell_type": "code",
   "execution_count": 96,
   "metadata": {},
   "outputs": [
    {
     "name": "stdout",
     "output_type": "stream",
     "text": [
      "16\n"
     ]
    }
   ],
   "source": [
    "# Score of the first comment on this submission\n",
    "print(a_submission.comments[0].score)"
   ]
  }
 ],
 "metadata": {
  "kernelspec": {
   "display_name": "Python 3",
   "language": "python",
   "name": "python3"
  },
  "language_info": {
   "codemirror_mode": {
    "name": "ipython",
    "version": 3
   },
   "file_extension": ".py",
   "mimetype": "text/x-python",
   "name": "python",
   "nbconvert_exporter": "python",
   "pygments_lexer": "ipython3",
   "version": "3.6.5"
  }
 },
 "nbformat": 4,
 "nbformat_minor": 2
}
